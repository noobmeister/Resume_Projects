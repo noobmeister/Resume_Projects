{
 "cells": [
  {
   "cell_type": "code",
   "execution_count": 1,
   "metadata": {},
   "outputs": [],
   "source": [
    "import cv2\n",
    "import os\n",
    "import tensorflow as tf\n",
    "from tensorflow.keras.preprocessing.image import img_to_array\n",
    "from tensorflow.keras.models import load_model\n",
    "from tensorflow.keras.applications.mobilenet_v2 import preprocess_input\n",
    "import numpy as np\n",
    "\n",
    "%config Completer.use_jedi = False"
   ]
  },
  {
   "cell_type": "code",
   "execution_count": 2,
   "metadata": {},
   "outputs": [],
   "source": [
    "face_classifier = cv2.CascadeClassifier(\"haarcascade_frontalface_default.xml\")\n",
    "mask_detection = tf.keras.models.load_model(\"mask_detection_vibi67_100.h5\")"
   ]
  },
  {
   "cell_type": "code",
   "execution_count": 3,
   "metadata": {},
   "outputs": [],
   "source": [
    "text_mask = \"Mask On\"\n",
    "text_no_mask = \"Mask Off\"\n",
    "font = cv2.FONT_HERSHEY_SIMPLEX # font for displaying text (below)\n",
    "scale = 0.8"
   ]
  },
  {
   "cell_type": "code",
   "execution_count": 4,
   "metadata": {},
   "outputs": [],
   "source": [
    "def predict(image): # image is a numpy array\n",
    "    \n",
    "    face_frame = cv2.cvtColor(image, cv2.COLOR_BGR2RGB) \n",
    "    face_frame = cv2.resize(face_frame, (224, 224))\n",
    "    face_frame = img_to_array(face_frame) # convert to numpy array\n",
    "    face_frame = np.expand_dims(face_frame, axis=0) # expand dimension\n",
    "    face_frame =  preprocess_input(face_frame) # preprocess image\n",
    "    prediction = mask_detection.predict(face_frame)\n",
    "    \n",
    "    return prediction[0][0] # return probability of mask"
   ]
  },
  {
   "cell_type": "code",
   "execution_count": 5,
   "metadata": {},
   "outputs": [],
   "source": [
    "def detector(gray_image, frame): # gray_image is a numpy array\n",
    "    \n",
    "    faces = face_classifier.detectMultiScale(gray_image, 1.1, 5) # detect faces\n",
    "    \n",
    "    for (x,y,w,h) in faces:\n",
    "\n",
    "        roi_color = frame[y:y+h, x:x+w] # region of interest\n",
    "        mask = predict(roi_color)\n",
    "\n",
    "        \n",
    "        if mask > 0.5: # if mask is on\n",
    "            cv2.rectangle(frame, (x, y), (x+w, y+h), (0,255,0), 2)\n",
    "            cv2.putText(frame, text =text_mask, org =(x+50,y-100), fontFace =font, fontScale = scale, color =(0,255,0),\n",
    "            thickness = 2)\n",
    "        \n",
    "        elif mask<=0.5: # if mask is off\n",
    "            cv2.rectangle(frame, (x, y), (x+w, y+h), (0,0,255), 2)\n",
    "            cv2.putText(frame, text =text_no_mask, org =(x+50,y-100), fontFace =font, fontScale = scale , color =(0,0,255),\n",
    "            thickness = 2)\n",
    "            \n",
    "    return frame"
   ]
  },
  {
   "cell_type": "code",
   "execution_count": null,
   "metadata": {},
   "outputs": [],
   "source": [
    "video_cap = cv2.VideoCapture(0)\n",
    "\n",
    "while True:\n",
    "    \n",
    "    ret, frame = video_cap.read() # read frame from video\n",
    "    gray_frame = cv2.cvtColor(frame, cv2.COLOR_BGR2GRAY)\n",
    "     \n",
    "    detect = detector(gray_frame, frame)\n",
    "    \n",
    "    cv2.imshow(\"Video\", detect) # display\n",
    "    \n",
    "    if cv2.waitKey(1) & 0xFF == ord(\"q\"): # press q to quit\n",
    "        break \n",
    "        \n",
    "video_cap.release()\n",
    "cv2.destroyAllWindows()"
   ]
  }
 ],
 "metadata": {
  "kernelspec": {
   "display_name": "Python 3.10.3 64-bit",
   "language": "python",
   "name": "python3"
  },
  "language_info": {
   "codemirror_mode": {
    "name": "ipython",
    "version": 3
   },
   "file_extension": ".py",
   "mimetype": "text/x-python",
   "name": "python",
   "nbconvert_exporter": "python",
   "pygments_lexer": "ipython3",
   "version": "3.10.3"
  },
  "orig_nbformat": 4,
  "vscode": {
   "interpreter": {
    "hash": "025944dbaab0be0bd5ca9f0cfd103697a894cbbb3949f763663fa5ba56fa0fcd"
   }
  }
 },
 "nbformat": 4,
 "nbformat_minor": 2
}
